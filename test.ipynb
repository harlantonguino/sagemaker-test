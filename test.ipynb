{
 "cells": [
  {
   "cell_type": "markdown",
   "id": "a9d1fd8f-7854-4283-bfea-814c2a81eb26",
   "metadata": {},
   "source": [
    "sagemaker test"
   ]
  }
 ],
 "metadata": {
  "kernelspec": {
   "display_name": ".conda-harlan-env:Python",
   "language": "python",
   "name": "conda-env-.conda-harlan-env-py"
  },
  "language_info": {
   "codemirror_mode": {
    "name": "ipython",
    "version": 3
   },
   "file_extension": ".py",
   "mimetype": "text/x-python",
   "name": "python",
   "nbconvert_exporter": "python",
   "pygments_lexer": "ipython3",
   "version": "3.12.4"
  }
 },
 "nbformat": 4,
 "nbformat_minor": 5
}
